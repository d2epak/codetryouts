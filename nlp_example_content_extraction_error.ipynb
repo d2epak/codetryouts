{
  "cells": [
    {
      "metadata": {
        "trusted": true
      },
      "cell_type": "code",
      "source": "import os\nimport sys\n!{sys.executable} -m pip install --upgrade pip\n!{sys.executable} -m pip install pdfminer\n\n#for reading the pdf\nfrom io import StringIO\nimport pdfminer\nfrom pdfminer.pdfinterp import PDFResourceManager, PDFPageInterpreter\nfrom pdfminer.converter import TextConverter\nfrom pdfminer.layout import LAParams\nfrom pdfminer.pdfpage import PDFPage\n\n#for identifying and removing common english language words\nfrom nltk.corpus import stopwords\n\n#for identifying and printing 3 word and 4 word combinations with their frequency of occurence\nfrom nltk.collocations import TrigramCollocationFinder\nfrom nltk.collocations import QuadgramCollocationFinder\n\n\n#for counting the sentences and words\nimport nltk\nnltk.download('punkt', quiet=True)\nnltk.download('stopwords', quiet=True)\nimport collections\nfrom nltk import word_tokenize\nfrom collections import Counter\n\n\n#for couting most frequent words\nimport re\n\ndef convert(filename, pages=None):\n    if not pages:\n        pagenums = set()\n    else:\n        pagenums = set(pages)\n\n    output = StringIO()\n    manager = PDFResourceManager()\n    converter = TextConverter(manager, output, laparams=LAParams())\n    interpreter = PDFPageInterpreter(manager, converter)\n\n    infile = open(filename, 'rb')\n    for page in PDFPage.get_pages(infile, pagenums):\n        interpreter.process_page(page)\n    infile.close()\n    converter.close()\n    text = output.getvalue()\n    output.close\n    return text\n\npdfFiles = []\ndir_name='./Source_Data/'\nprint('list directory', os.listdir(dir_name))\n\nfor filename in os.listdir(dir_name):\n    print('filename is ', filename)\n    if filename.endswith('.pdf') or filename.endswith('.PDF') or filename.endswith('.Pdf') or filename.endswith('.pDf') or filename.endswith('.pdF') or filename.endswith('.pDF') or filename.endswith('.pDf') or filename.endswith('.PDF'):\n         pdfFiles.append(filename)\n         text=convert(filename)\n\n         sentence_count = len(nltk.tokenize.sent_tokenize(text))\n         word_count = len(nltk.tokenize.word_tokenize(text))\n         print('\\nThe file ',filename,' has ',word_count, 'words and ', sentence_count,' sentences in it.\\n')\n         \n         #use findall for counting most common words, quadgrams, trigrams\n         all_text = re.findall(r'\\w+', text)\n         all_text =map(lambda x: x.lower(), all_text)\n         filtered_words = list(filter(lambda word: word not in stopwords.words('english') and word.isalpha(), all_text))\n\n         word_counts = Counter(filtered_words).most_common(20)\n         print('The 20 most commonly occuring words in this file are : \\n\\n', word_counts)\n         \n         print('\\nThe 10 most common 3 word combinations appearing in this file are: \\n')\n         trigram = TrigramCollocationFinder.from_words(filtered_words)\n         print(sorted(trigram.ngram_fd.items(), key=lambda t: (-t[1], t[0]))[:10])\n         \n         fourgrams=QuadgramCollocationFinder.from_words(filtered_words)\n         print('\\nThe 10 most common 4 word combinations appearing in this file are: \\n')\n         print(sorted(fourgrams.ngram_fd.items(), key=lambda t: (-t[1], t[0]))[:10])\n         \n         print('----------------------------------------------------------------------------------------------------')",
      "execution_count": 5,
      "outputs": [
        {
          "output_type": "stream",
          "text": "Requirement already satisfied: pdfminer in /home/nbuser/anaconda3_501/lib/python3.6/site-packages (20191125)\nRequirement already satisfied: pycryptodome in /home/nbuser/anaconda3_501/lib/python3.6/site-packages (from pdfminer) (3.9.7)\n\u001b[33mWARNING: You are using pip version 19.3.1; however, version 20.1.1 is available.\nYou should consider upgrading via the 'pip install --upgrade pip' command.\u001b[0m\nlist directory ['ijfs-06-00007.pdf', 'docA.pdf']\nfilename is  ijfs-06-00007.pdf\n\nThe file  ijfs-06-00007.pdf  has  8958 words and  515  sentences in it.\n\nThe 20 most commonly occuring words in this file are : \n\n [('risk', 97), ('real', 65), ('estate', 64), ('criteria', 55), ('market', 47), ('characteristics', 41), ('rating', 40), ('risks', 25), ('operation', 25), ('services', 25), ('use', 25), ('university', 23), ('weight', 22), ('since', 21), ('scenario', 21), ('sector', 20), ('public', 20), ('development', 19), ('et', 19), ('al', 19)]\n\nThe 10 most common 3 word combinations appearing in this file are: \n\n[(('int', 'j', 'financial'), 15), (('j', 'financial', 'stud'), 15), (('real', 'estate', 'risk'), 10), (('real', 'estate', 'market'), 8), (('analytic', 'hierarchy', 'process'), 7), (('international', 'valuation', 'standards'), 7), (('real', 'estate', 'initiative'), 7), (('real', 'estate', 'operation'), 7), (('catholic', 'university', 'sacred'), 6), (('result', 'real', 'estate'), 6)]\n\nThe 10 most common 4 word combinations appearing in this file are: \n\n[(('int', 'j', 'financial', 'stud'), 15), (('catholic', 'university', 'sacred', 'heart'), 6), (('result', 'real', 'estate', 'initiative'), 6), (('economic', 'development', 'international', 'attractiveness'), 5), (('overall', 'economic', 'development', 'international'), 5), (('international', 'valuation', 'standards', 'council'), 4), (('law', 'taxation', 'currency', 'conditions'), 4), (('political', 'law', 'taxation', 'currency'), 4), (('university', 'almost', 'risk', 'since'), 4), (('almost', 'risk', 'since', 'buyer'), 3)]\n----------------------------------------------------------------------------------------------------\nfilename is  docA.pdf\n\nThe file  docA.pdf  has  3263 words and  128  sentences in it.\n\nThe 20 most commonly occuring words in this file are : \n\n [('lease', 74), ('shall', 71), ('tenant', 64), ('lessor', 56), ('property', 46), ('real', 44), ('term', 22), ('may', 20), ('rent', 18), ('time', 15), ('upon', 12), ('notice', 11), ('prior', 11), ('provided', 10), ('within', 10), ('terminate', 10), ('made', 9), ('days', 9), ('party', 9), ('commercial', 8)]\n\nThe 10 most common 3 word combinations appearing in this file are: \n\n[(('advice', 'page', 'commercial'), 4), (('advice', 'prior', 'executing'), 4), (('commercial', 'lease', 'law'), 4), (('constitute', 'legal', 'advice'), 4), (('executing', 'lease', 'lease'), 4), (('law', 'offices', 'todd'), 4), (('lease', 'law', 'offices'), 4), (('lease', 'lease', 'sample'), 4), (('lease', 'sample', 'constitute'), 4), (('lease', 'seek', 'legal'), 4)]\n\nThe 10 most common 4 word combinations appearing in this file are: \n\n[(('advice', 'page', 'commercial', 'lease'), 4), (('advice', 'prior', 'executing', 'lease'), 4), (('commercial', 'lease', 'law', 'offices'), 4), (('constitute', 'legal', 'advice', 'page'), 4), (('executing', 'lease', 'lease', 'sample'), 4), (('law', 'offices', 'todd', 'e'), 4), (('lease', 'law', 'offices', 'todd'), 4), (('lease', 'lease', 'sample', 'constitute'), 4), (('lease', 'sample', 'constitute', 'legal'), 4), (('lease', 'seek', 'legal', 'advice'), 4)]\n----------------------------------------------------------------------------------------------------\n",
          "name": "stdout"
        }
      ]
    },
    {
      "metadata": {
        "trusted": true
      },
      "cell_type": "code",
      "source": "",
      "execution_count": null,
      "outputs": []
    }
  ],
  "metadata": {
    "kernelspec": {
      "name": "python36",
      "display_name": "Python 3.6",
      "language": "python"
    },
    "language_info": {
      "mimetype": "text/x-python",
      "nbconvert_exporter": "python",
      "name": "python",
      "pygments_lexer": "ipython3",
      "version": "3.6.6",
      "file_extension": ".py",
      "codemirror_mode": {
        "version": 3,
        "name": "ipython"
      }
    }
  },
  "nbformat": 4,
  "nbformat_minor": 1
}